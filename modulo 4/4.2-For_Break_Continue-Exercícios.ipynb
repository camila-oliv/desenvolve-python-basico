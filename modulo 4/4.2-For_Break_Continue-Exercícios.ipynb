{
 "cells": [
  {
   "cell_type": "markdown",
   "id": "29e89030",
   "metadata": {},
   "source": [
    "# Módulo 4 - Repetições\n",
    "\n",
    "## Aulas 4.2 - Comando ```for``` e 4.3 Break e Continue"
   ]
  },
  {
   "cell_type": "markdown",
   "id": "a45b42df",
   "metadata": {},
   "source": [
    "### Q1.\n",
    "\n",
    "Crie um programa em Python que utilize o comando for para imprimir os números de 10 a 1, em ordem decrescente."
   ]
  },
  {
   "cell_type": "code",
   "execution_count": 5,
   "id": "55a75b3d",
   "metadata": {},
   "outputs": [
    {
     "name": "stdout",
     "output_type": "stream",
     "text": [
      "10\n",
      "9\n",
      "8\n",
      "7\n",
      "6\n",
      "5\n",
      "4\n",
      "3\n",
      "2\n",
      "1\n"
     ]
    }
   ],
   "source": [
    "## Escreva e execute seu código aqui\n",
    "\n",
    "for n in range(10,0, -1):\n",
    "    print(n)"
   ]
  },
  {
   "cell_type": "markdown",
   "id": "94b47c36",
   "metadata": {},
   "source": [
    "### Q2.\n",
    "\n",
    "Dado um número inteiro positivo informado pelo usuário, crie um programa em Python que utilize o comando for para calcular e exibir a soma dos números de 1 até o número informado. Ou seja, $1 + 2 + 3 + ... + n$\n",
    "\n",
    "Exemplo de interação:\n",
    "```\n",
    "Digite um número: 5\n",
    "A soma dos números de 1 a 5 é 15\n",
    "```\n"
   ]
  },
  {
   "cell_type": "code",
   "execution_count": 5,
   "id": "45b71596",
   "metadata": {},
   "outputs": [
    {
     "name": "stdout",
     "output_type": "stream",
     "text": [
      "A soma dos números é 15\n"
     ]
    }
   ],
   "source": [
    "## Dados Entrada\n",
    "n = int(input(\"Digite um número: \"))\n",
    "soma = 0\n",
    "## Processamento\n",
    "\n",
    "for n in range(1,n+1):\n",
    "    soma += n\n",
    "print(f\"A soma dos números é\", soma)\n",
    "\n",
    "\n"
   ]
  },
  {
   "cell_type": "markdown",
   "id": "0411d170",
   "metadata": {},
   "source": [
    "### Q3.\n",
    "\n",
    "Escreva um programa que lê 10 valores inteiros positivos do usuário e ao final imprime a média dos valores digitados com duas casas decimais.\n",
    "\n",
    "```\n",
    "Digite 10 números positivos:\n",
    "3\n",
    "2\n",
    "12\n",
    "14\n",
    "20\n",
    "42\n",
    "19\n",
    "0\n",
    "8\n",
    "1\n",
    "A média dos valores digitados é 12.10\n",
    "```"
   ]
  },
  {
   "cell_type": "code",
   "execution_count": 3,
   "id": "3f72f358",
   "metadata": {},
   "outputs": [
    {
     "name": "stdout",
     "output_type": "stream",
     "text": [
      " A média dos valores digitados é 12.10\n"
     ]
    }
   ],
   "source": [
    "## Dados Entrada\n",
    "total_valores = 10 \n",
    "soma = 0\n",
    "i = 0\n",
    "\n",
    "for n in range(total_valores):\n",
    "    n = int(input('Digite número inteiro inteiros: '))\n",
    "    soma += n\n",
    "    i +=1\n",
    "    \n",
    "print(f\" A média dos valores digitados é {soma/total_valores:.2f}\")\n",
    "\n",
    "\n"
   ]
  },
  {
   "cell_type": "markdown",
   "id": "d62e27ff",
   "metadata": {},
   "source": [
    "### Q4.\n",
    "\n",
    "Você vai criar um sistema que registra os resultados dos jogos do Atlético MG ao longo de um campeonato. Seu sistema vai receber os resultados de todos os jogos do Galo, e deve calcular a pontuação do time sabendo que vitórias valem 3 pontos, empates 1 ponto e derrotas 0 pontos.\n",
    "\n",
    "Entrada: <br>\n",
    "A primeira linha de entrada é um inteiro N com a quantidade jogos do galo. Para cada jogo você deve ler 2 inteiros, o primeiro com a quantidade de gols do galo e o segundo com a quantidade de gols do time oponente. \n",
    "\n",
    "Saída: <br>\n",
    "Apresente a soma de vitórias, empates e derrotas do galo, junto com o cálculo da pontuação total.\n",
    "\n",
    "Ex:\n",
    "```\n",
    "Entrada:\n",
    "4\n",
    "2\n",
    "0\n",
    "1\n",
    "1\n",
    "0\n",
    "3\n",
    "1\n",
    "0\n",
    "\n",
    "Saída:\n",
    "Vitórias: 2\n",
    "Empates: 1\n",
    "Derrotas: 1\n",
    "Pontuação: 7\n",
    "\n",
    "```\n",
    "\n",
    "\n"
   ]
  },
  {
   "cell_type": "code",
   "execution_count": 6,
   "id": "d3fdfc2a",
   "metadata": {},
   "outputs": [
    {
     "name": "stdout",
     "output_type": "stream",
     "text": [
      "Total de Vitórias do Galo:  2\n",
      "Total de Empates:  1\n",
      "Total de Derrotas do Galo:  1\n",
      "Pontuação:  7\n"
     ]
    }
   ],
   "source": [
    "## Dados entrada\n",
    "num_jogos = int(input('Digite número de jogos: '))\n",
    "\n",
    "soma_vitorias, soma_empates, soma_derrotas = 0, 0, 0\n",
    "\n",
    "## Processamento\n",
    "for jogos in range(num_jogos):\n",
    "    gols_galo = int(input('Digite números de Gols do Galo : '))\n",
    "    gols_op = int(input('Digite números de Gols do Oponete: '))\n",
    "\n",
    "    if gols_galo > gols_op:\n",
    "        soma_vitorias +=1\n",
    "    elif gols_galo < gols_op:\n",
    "     soma_derrotas += 1\n",
    "    elif gols_galo == gols_op:\n",
    "        soma_empates += 1\n",
    "\n",
    "## Dados de Saída\n",
    "print('Total de Vitórias do Galo: ', soma_vitorias)\n",
    "print('Total de Empates: ', soma_empates)\n",
    "print('Total de Derrotas do Galo: ', soma_derrotas)\n",
    "print(\"Pontuação: \", 3*soma_vitorias + soma_empates)\n",
    "\n"
   ]
  },
  {
   "cell_type": "markdown",
   "id": "fc98604d",
   "metadata": {},
   "source": [
    "### Q5.\n",
    "\n",
    "Faça um programa que lê dois inteiros N e M, e imprime na tela um campo de batalha naval. O tabuleiro deve possuir N linhas e M colunas. A primeira linha é composta por um espaço em branco e o cabeçalho das colunas, ou seja, valores de 1 a M. As N linhas seguintes iniciam com o cabeçalho da linha, ou seja, seu número, seguido de M caracteres \"/\" (barra) indicando uma possível posição jogável. \n",
    "\n",
    "```\n",
    "Entrada:\n",
    "5\n",
    "4\n",
    "\n",
    "Saída:\n",
    "  1 2 3 4 \n",
    "1 / / / / \n",
    "2 / / / / \n",
    "3 / / / / \n",
    "4 / / / / \n",
    "5 / / / / \n",
    "```\n",
    "\n",
    "Para esse exercício, precisamos lembrar que o comando print implicitamente adiciona uma quebra de linha ao final da impressão. Podemos interferir no final da impressão adicionando mais uma entrada ao print. No exemplo, finalizamos cada linha com um espaço em branco:\n",
    "```python\n",
    "print(\"Texto qualquer\", end = \" \")\n",
    "```"
   ]
  },
  {
   "cell_type": "code",
   "execution_count": null,
   "id": "a60ef197",
   "metadata": {},
   "outputs": [],
   "source": [
    "## Escreva e execute seu código aqui\n"
   ]
  },
  {
   "cell_type": "markdown",
   "id": "4654dc0b",
   "metadata": {},
   "source": [
    "---\n",
    "## Break e Continue"
   ]
  },
  {
   "cell_type": "markdown",
   "id": "24fe9d85",
   "metadata": {},
   "source": [
    "### Q6.\n",
    "\n",
    "Escreva um programa que lê uma quantidade indefinida de valores e informa o maior e o menor valor digitados. A leitura é encerrada quando o usuário digitar o valor 0 (zero).\n",
    "\n",
    "```\n",
    "Entrada:\n",
    "12\n",
    "-1\n",
    "29\n",
    "11\n",
    "-5\n",
    "0\n",
    "\n",
    "Saída:\n",
    "Maior: 29\n",
    "Menor: -5\n",
    "```"
   ]
  },
  {
   "cell_type": "code",
   "execution_count": 4,
   "id": "ee1c466a",
   "metadata": {},
   "outputs": [
    {
     "name": "stdout",
     "output_type": "stream",
     "text": [
      "O maior valor é: 29\n",
      "O menor valor é: -5\n"
     ]
    }
   ],
   "source": [
    "## Dados Entrada\n",
    "n = int(input(\"Digite um número: \"))\n",
    "maior = float(\"-inf\")\n",
    "menor = float(\"inf\")\n",
    "\n",
    "## Processamento\n",
    "while True:\n",
    "    n = int(input(\"Digite um número: \"))\n",
    "    if n == 0:\n",
    "        break\n",
    "    if n> maior:\n",
    "        maior = n\n",
    "\n",
    "    if n < menor:\n",
    "        menor = n\n",
    "\n",
    "print(f\"O maior valor é: {maior}\")\n",
    "print(f\"O menor valor é: {menor}\")\n"
   ]
  },
  {
   "cell_type": "markdown",
   "id": "30d486f7",
   "metadata": {},
   "source": [
    "### Q7.\n",
    "\n",
    "Escreva um programa que lê uma quantidade indefinida de valores e informa o **produto** dos valores positivos digitados. A leitura é encerrada quando o usuário digitar o valor 0 (zero).\n",
    "\n",
    "```\n",
    "Entrada:\n",
    "2\n",
    "-1\n",
    "1\n",
    "3\n",
    "-5\n",
    "0\n",
    "\n",
    "Saída:\n",
    "Produto: 6\n",
    "```"
   ]
  },
  {
   "cell_type": "code",
   "execution_count": 8,
   "id": "2f1ac324",
   "metadata": {},
   "outputs": [
    {
     "name": "stdout",
     "output_type": "stream",
     "text": [
      "A soma dos valores positivos é: 6\n"
     ]
    }
   ],
   "source": [
    "## Dados Entrada\n",
    "\n",
    "soma = 0\n",
    "\n",
    "## Processamento\n",
    "while True:\n",
    "    n = int(input(\"Digite um número: \"))\n",
    "    if n == 0:\n",
    "        break\n",
    "    if n >=0:\n",
    "        soma += n\n",
    "\n",
    "   \n",
    "print(f\"A soma dos valores positivos é: {soma}\")\n"
   ]
  },
  {
   "cell_type": "markdown",
   "id": "e932f3cf",
   "metadata": {},
   "source": [
    "### Q8.\n",
    "\n",
    "Vamos fazer uma calculadora que aceita expressões aritméticas de qualquer tamanho até que o usuário digite a palavra \"Fim\". Sua calculadora executa apenas as operações \"+\", \"-\".\n",
    "\n",
    "```\n",
    "Entrada:\n",
    "5\n",
    "+\n",
    "8\n",
    "-\n",
    "3\n",
    "+\n",
    "2\n",
    "Fim\n",
    "\n",
    "Saída:\n",
    "12\n",
    "```"
   ]
  },
  {
   "cell_type": "code",
   "execution_count": 12,
   "id": "e835d870",
   "metadata": {},
   "outputs": [
    {
     "ename": "ValueError",
     "evalue": "invalid literal for int() with base 10: 'Fim'",
     "output_type": "error",
     "traceback": [
      "\u001b[1;31m---------------------------------------------------------------------------\u001b[0m",
      "\u001b[1;31mValueError\u001b[0m                                Traceback (most recent call last)",
      "\u001b[1;32mc:\\Users\\Administrador\\Desktop\\desenvolve-python-basico\\modulo 4\\4.2-For_Break_Continue-Exercícios.ipynb Célula 18\u001b[0m line \u001b[0;36m9\n\u001b[0;32m      <a href='vscode-notebook-cell:/c%3A/Users/Administrador/Desktop/desenvolve-python-basico/modulo%204/4.2-For_Break_Continue-Exerc%C3%ADcios.ipynb#X23sZmlsZQ%3D%3D?line=6'>7</a>\u001b[0m \u001b[39m## Processamento\u001b[39;00m\n\u001b[0;32m      <a href='vscode-notebook-cell:/c%3A/Users/Administrador/Desktop/desenvolve-python-basico/modulo%204/4.2-For_Break_Continue-Exerc%C3%ADcios.ipynb#X23sZmlsZQ%3D%3D?line=7'>8</a>\u001b[0m \u001b[39mwhile\u001b[39;00m \u001b[39mTrue\u001b[39;00m:\n\u001b[1;32m----> <a href='vscode-notebook-cell:/c%3A/Users/Administrador/Desktop/desenvolve-python-basico/modulo%204/4.2-For_Break_Continue-Exerc%C3%ADcios.ipynb#X23sZmlsZQ%3D%3D?line=8'>9</a>\u001b[0m     n1 \u001b[39m=\u001b[39m \u001b[39mint\u001b[39;49m(\u001b[39minput\u001b[39;49m(\u001b[39m\"\u001b[39;49m\u001b[39mDigite um número: \u001b[39;49m\u001b[39m\"\u001b[39;49m))\n\u001b[0;32m     <a href='vscode-notebook-cell:/c%3A/Users/Administrador/Desktop/desenvolve-python-basico/modulo%204/4.2-For_Break_Continue-Exerc%C3%ADcios.ipynb#X23sZmlsZQ%3D%3D?line=9'>10</a>\u001b[0m     operador \u001b[39m=\u001b[39m\u001b[39minput\u001b[39m(\u001b[39m'\u001b[39m\u001b[39mDigite operador: \u001b[39m\u001b[39m'\u001b[39m)\n\u001b[0;32m     <a href='vscode-notebook-cell:/c%3A/Users/Administrador/Desktop/desenvolve-python-basico/modulo%204/4.2-For_Break_Continue-Exerc%C3%ADcios.ipynb#X23sZmlsZQ%3D%3D?line=10'>11</a>\u001b[0m     n2 \u001b[39m=\u001b[39m \u001b[39mint\u001b[39m(\u001b[39minput\u001b[39m(\u001b[39m\"\u001b[39m\u001b[39mDigite um número: \u001b[39m\u001b[39m\"\u001b[39m))\n",
      "\u001b[1;31mValueError\u001b[0m: invalid literal for int() with base 10: 'Fim'"
     ]
    }
   ],
   "source": [
    "## Dados Entrada\n",
    "\n",
    "soma = 0\n",
    "\n",
    "## Processamento\n",
    "while True:\n",
    "    n1 = int(input(\"Digite um número: \"))\n",
    "    operador =input('Digite operador: ')\n",
    "    n2 = int(input(\"Digite um número: \"))\n",
    "    \n",
    "    if operador == 'Fim':\n",
    "        break\n",
    "    if operador == (\"+\"):\n",
    "        soma = n1 + n2\n",
    "    elif operador == (\"-\"):\n",
    "        soma = n1 - n2\n",
    " \n",
    "\n",
    "## Dados Saída\n",
    "   \n",
    "print(f\"A soma dos valores é: {soma}\")\n",
    "\n"
   ]
  }
 ],
 "metadata": {
  "kernelspec": {
   "display_name": "Python 3 (ipykernel)",
   "language": "python",
   "name": "python3"
  },
  "language_info": {
   "codemirror_mode": {
    "name": "ipython",
    "version": 3
   },
   "file_extension": ".py",
   "mimetype": "text/x-python",
   "name": "python",
   "nbconvert_exporter": "python",
   "pygments_lexer": "ipython3",
   "version": "3.12.3"
  }
 },
 "nbformat": 4,
 "nbformat_minor": 5
}
